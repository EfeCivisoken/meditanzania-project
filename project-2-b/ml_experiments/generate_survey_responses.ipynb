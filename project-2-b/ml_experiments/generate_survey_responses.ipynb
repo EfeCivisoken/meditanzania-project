{
 "cells": [
  {
   "cell_type": "code",
   "execution_count": null,
   "id": "f1265366",
   "metadata": {},
   "outputs": [
    {
     "ename": "",
     "evalue": "",
     "output_type": "error",
     "traceback": [
      "\u001b[1;31mRunning cells with 'Python 3.13.2' requires the ipykernel package.\n",
      "\u001b[1;31m<a href='command:jupyter.createPythonEnvAndSelectController'>Create a Python Environment</a> with the required packages.\n",
      "\u001b[1;31mOr install 'ipykernel' using the command: '/opt/homebrew/bin/python3 -m pip install ipykernel -U --user --force-reinstall'"
     ]
    }
   ],
   "source": [
    "import csv\n",
    "import random\n",
    "\n",
    "# List of question strings (must match exactly with those in your DB)\n",
    "questions = [\n",
    "    \"Were you asked for permission or consent before a physical examination?\",\n",
    "    \"Did you receive all the services you needed?\",\n",
    "    \"Why did you not receive all services?\",\n",
    "    \"Are you satisfied that you were attended on time?\",\n",
    "    \"Were your vital signs measured e.g temperature, weight, blood pressure, heart rate, height?\",\n",
    "    \"How long did you wait to have your vital signs measured?\",\n",
    "    \"After vital signs, how long did you wait to receive care?\",\n",
    "    \"Were there places to sit comfortably while waiting?\",\n",
    "    \"Did the practitioner clearly explain your condition and diagnostic tests?\",\n",
    "    \"Were you able to get all the tests you needed?\",\n",
    "    \"What was the reason you did not get some or all of the tests?\",\n",
    "    \"Were all the medicines you needed available?\",\n",
    "    \"Why did you not get all the medicine?\",\n",
    "    \"Were you informed about how to take the medicine you were given?\",\n",
    "    \"Were you satisfied with privacy during the examination and treatment?\",\n",
    "    \"How satisfied were you with the cleanliness and condition of the facility?\",\n",
    "    \"Are you satisfied that you were addressed and treated politely and respectfully?\",\n",
    "    \"If you faced an issue, did someone at the facility listen to your concern?\",\n",
    "    \"How did you pay for the services?\",\n",
    "    \"Overall, how satisfied are you with your visit to this facility?\",\n",
    "    \"Which area satisfied you the most?\",\n",
    "    \"Which area did not satisfy you the most?\",\n",
    "    \"Is there any other feedback or issue about this facility that you would like to share?\",\n",
    "    \"Please write your feedback\"\n",
    "]\n",
    "\n",
    "# Only the last question is text-based\n",
    "TEXT_QUESTION = \"Please write your feedback\"\n",
    "\n",
    "swahili_feedbacks = [\n",
    "    \"Huduma ilikuwa nzuri.\",\n",
    "    \"Nilisubiri kwa muda mrefu.\",\n",
    "    \"Usafi haukuwa mzuri.\",\n",
    "    \"Wahudumu walikuwa wema.\",\n",
    "    \"Nitapendekeza kwa wengine.\",\n",
    "    \"Sina malalamiko.\",\n",
    "    \"Sikupata huduma zote nilizohitaji.\",\n",
    "    \"Hakuna kilichonivutia sana.\",\n",
    "    \"Nilielezwa vizuri.\"\n",
    "]\n",
    "\n",
    "integer_choices = [1, 2, 3, 4, 5]\n",
    "facility_ids = list(range(1, 9515))\n",
    "num_responses = 1000\n",
    "\n",
    "def maybe_blank(value):\n",
    "    return \"\" if random.random() < 0.2 else value\n",
    "\n",
    "with open(\"random_survey_responses.csv\", \"w\", newline='', encoding=\"utf-8\") as csvfile:\n",
    "    fieldnames = [\"facility\", \"phone\"] + questions\n",
    "    writer = csv.DictWriter(csvfile, fieldnames=fieldnames)\n",
    "    writer.writeheader()\n",
    "\n",
    "    for _ in range(num_responses):\n",
    "        row = {\n",
    "            \"facility\": random.choice(facility_ids),\n",
    "            \"phone\": f\"+2557{random.randint(10000000, 99999999)}\"\n",
    "        }\n",
    "        for q in questions:\n",
    "            if q == TEXT_QUESTION:\n",
    "                row[q] = maybe_blank(random.choice(swahili_feedbacks))\n",
    "            else:\n",
    "                row[q] = maybe_blank(random.choice(integer_choices))\n",
    "        writer.writerow(row)"
   ]
  }
 ],
 "metadata": {
  "kernelspec": {
   "display_name": "Python 3",
   "language": "python",
   "name": "python3"
  },
  "language_info": {
   "name": "python",
   "version": "3.13.2"
  }
 },
 "nbformat": 4,
 "nbformat_minor": 5
}
